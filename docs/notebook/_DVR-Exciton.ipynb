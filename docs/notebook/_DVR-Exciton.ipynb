{
 "cells": [
  {
   "cell_type": "markdown",
   "id": "3571ac37-e66e-478b-99d6-9226a53d7d88",
   "metadata": {},
   "source": [
    "# Example 5: Multi-state FBR-SOP tutorial (LVC model)"
   ]
  },
  {
   "cell_type": "markdown",
   "id": "6655c37e-0a62-4ec0-ab6b-de282374a44f",
   "metadata": {},
   "source": [
    "| run type      | wavefunction | backend | Basis  | steps |\n",
    "| ---           | ---          | ---     | ---    | ---   |\n",
    "| propagation | MPS-SM | JAX   | HO-DVR+Exciton | 200    |\n"
   ]
  },
  {
   "cell_type": "markdown",
   "id": "2da0db19-4f61-4ff4-b0e9-e09651e23246",
   "metadata": {},
   "source": [
    "## 1. Import modules"
   ]
  },
  {
   "cell_type": "code",
   "execution_count": 1,
   "id": "89f1397d-d6a9-4313-9473-03203db871d0",
   "metadata": {
    "ExecuteTime": {
     "end_time": "2023-06-26T07:08:07.199468Z",
     "start_time": "2023-06-26T07:08:04.735968Z"
    }
   },
   "outputs": [],
   "source": [
    "import numpy as np\n",
    "from discvar import HarmonicOscillator as HO\n",
    "\n",
    "from pytdscf import (\n",
    "    BasInfo,\n",
    "    Exciton,\n",
    "    Model,\n",
    "    Simulator,\n",
    "    TensorHamiltonian,\n",
    "    TensorOperator,\n",
    "    construct_kinetic_operator,\n",
    "    construct_nMR_recursive,\n",
    ")\n",
    "from pytdscf.units import au_in_cm1"
   ]
  },
  {
   "cell_type": "markdown",
   "id": "47b435d0-6f00-42e8-8b75-8d8a8a18dd6f",
   "metadata": {},
   "source": [
    "## 2. Define basis funciton\n",
    "In this case, 2-state 3-mode simulation of N=10, ω1=1500 cm-1, ω2=2000 cm-1, ω3=2500 cm-1 are defined"
   ]
  },
  {
   "cell_type": "code",
   "execution_count": 2,
   "id": "693c2c4a-4fe6-4c72-ae64-98636527dd94",
   "metadata": {
    "ExecuteTime": {
     "end_time": "2023-06-26T07:08:07.205513Z",
     "start_time": "2023-06-26T07:08:07.203809Z"
    }
   },
   "outputs": [
    {
     "data": {
      "text/plain": [
       "[8.304076374771499e-05, 2.0760190936928748e-05]"
      ]
     },
     "execution_count": 2,
     "metadata": {},
     "output_type": "execute_result"
    }
   ],
   "source": [
    "freqs_cm1 = [2000, 1000]\n",
    "omega2_au = [(freq / au_in_cm1) ** 2 for freq in freqs_cm1]\n",
    "nprim = 9\n",
    "basis = [HO(nprim, freq) for freq in freqs_cm1]\n",
    "basinfo = BasInfo([basis, basis])\n",
    "omega2_au"
   ]
  },
  {
   "cell_type": "markdown",
   "id": "be400fc4-c925-440b-b865-a5375615d8c1",
   "metadata": {},
   "source": [
    "## 3. Define Hamiltonian\n",
    "In this case, Hamiltonian is defined by\n",
    "$$\n",
    "H=\\left[\\begin{array}{cc}\n",
    "-\\Delta E/2 + \\sum_v\\left(-\\frac{\\partial^2}{\\partial Q_v^2}+ \\frac{\\omega_v^2}{2}Q_v^2 \\right) & J_{12} + \\sum_v \\lambda_{12}^{(v)} Q_v\\\\\n",
    "J_{21}  + \\sum_v \\lambda_{21}^{(v)} Q_v& \\sum_v\\left(-\\frac{\\partial^2}{\\partial Q_v^2}+ \\frac{\\omega_v^2}{2}Q_v^2 + \\kappa Q_v \\right)+\\Delta E/2\n",
    "\\end{array}\\right].\n",
    "$$"
   ]
  },
  {
   "cell_type": "code",
   "execution_count": 3,
   "id": "37f754dd-0c77-416e-9624-35ba8a1fe9ca",
   "metadata": {
    "ExecuteTime": {
     "end_time": "2023-06-26T07:08:07.208540Z",
     "start_time": "2023-06-26T07:08:07.206962Z"
    }
   },
   "outputs": [],
   "source": [
    "coupleJ = 0.0001  # J_12 and J_21 in a.u.\n",
    "deltaE = 0.00  # ΔE in a.u.\n",
    "lam = 0.001\n",
    "kappa = 0.001\n",
    "backend = \"jax\""
   ]
  },
  {
   "cell_type": "code",
   "execution_count": 4,
   "id": "597165da-ac80-4b26-b4e2-8b7b554dcc2b",
   "metadata": {},
   "outputs": [],
   "source": [
    "s0_func = {}\n",
    "s1_func = {}\n",
    "v01_func = {}\n",
    "\n",
    "for i in range(len(omega2_au)):\n",
    "    # print(i, ω2)\n",
    "    s0_func[(i,)] = lambda Qi, i=i: omega2_au[i] / 2 * (Qi**2)  # late binding\n",
    "    s1_func[(i,)] = lambda Qi, i=i: kappa * Qi + omega2_au[i] / 2 * Qi**2\n",
    "    v01_func[(i,)] = lambda Qi, i=i: lam * Qi"
   ]
  },
  {
   "cell_type": "code",
   "execution_count": 5,
   "id": "1a1ed38d-4c0f-48d0-bdb1-1d8263390c38",
   "metadata": {},
   "outputs": [],
   "source": [
    "mpo_11 = construct_nMR_recursive(basis, nMR=1, func=s1_func, rate=0.99999999999)\n",
    "mpo_00 = construct_nMR_recursive(basis, nMR=1, func=s0_func, rate=0.99999999999)\n",
    "mpo_01 = construct_nMR_recursive(\n",
    "    basis, nMR=1, func=v01_func, rate=0.99999999999\n",
    ")"
   ]
  },
  {
   "cell_type": "code",
   "execution_count": 6,
   "id": "37f978fa-62e2-44ba-92a4-2c5c05f9775c",
   "metadata": {},
   "outputs": [],
   "source": [
    "V11 = {tuple([k for k in range(len(basis))]): TensorOperator(mpo=mpo_11)}\n",
    "V00 = {tuple([k for k in range(len(basis))]): TensorOperator(mpo=mpo_00)}\n",
    "V01 = {tuple([k for k in range(len(basis))]): TensorOperator(mpo=mpo_01)}\n",
    "\n",
    "_coupleJ = [\n",
    "    [-deltaE / 2, coupleJ],\n",
    "    [coupleJ, deltaE / 2],\n",
    "]\n",
    "\n",
    "V11[()] = _coupleJ[1][1]\n",
    "V00[()] = _coupleJ[0][0]\n",
    "V01[()] = _coupleJ[0][1]\n",
    "\n",
    "potential = [[V00, V01], [V01, V11]]\n",
    "\n",
    "K00 = construct_kinetic_operator(basis)\n",
    "kinetic = [[K00, None], [None, K00]]\n",
    "\n",
    "H = TensorHamiltonian(\n",
    "    ndof=len(basis), potential=potential, kinetic=kinetic, backend=backend\n",
    ")\n",
    "\n",
    "operators = {\"hamiltonian\": H}"
   ]
  },
  {
   "cell_type": "markdown",
   "id": "859237d4-a99e-48db-b693-e52357e7d48a",
   "metadata": {},
   "source": [
    "## 4. Define misc\n",
    "- MPS bond-dimension is m=4\n",
    "- Initial population of 1-state is 1.0\n",
    "- Initial vibrational state is $|0,0,0\\rangle \\otimes |1,0,0\\rangle$ (only S0 state 0-th mode is excited)"
   ]
  },
  {
   "cell_type": "code",
   "execution_count": 7,
   "id": "989b63c9-d30d-4410-b6ba-55fbf95accee",
   "metadata": {
    "ExecuteTime": {
     "end_time": "2023-06-26T07:08:07.210786Z",
     "start_time": "2023-06-26T07:08:07.209656Z"
    }
   },
   "outputs": [],
   "source": [
    "model = Model(basinfo=basinfo, operators=operators)\n",
    "model.m_aux_max = 20\n",
    "model.init_weight_ESTATE = [0.0, 1.0]\n",
    "model.init_HartreeProduct = [\n",
    "    [ho.get_unitary()[0].tolist() for ho in basis],\n",
    "    [ho.get_unitary()[0].tolist() for ho in basis],\n",
    "]"
   ]
  },
  {
   "cell_type": "markdown",
   "id": "b3e3ef49-b2e8-441d-8802-ca538417f57f",
   "metadata": {},
   "source": [
    "## 5. Execute simulation\n",
    "- Δt=0.1 fs\n",
    "- If `proj_gs=True`, then the initial vibrational state is projected from `model.primbas_gs`."
   ]
  },
  {
   "cell_type": "code",
   "execution_count": 8,
   "id": "d43ee4aa-a4a3-4398-8661-e1da8baf4111",
   "metadata": {
    "ExecuteTime": {
     "end_time": "2023-06-26T07:08:11.351904Z",
     "start_time": "2023-06-26T07:08:07.211455Z"
    },
    "scrolled": true
   },
   "outputs": [
    {
     "name": "stderr",
     "output_type": "stream",
     "text": [
      "2024-11-28 10:13:19,686 - INFO:main.pytdscf._const_cls - \u001b[1m\u001b[35m\n",
      "     ____     __________   .____ ____   _____\n",
      "    / _  |   /__  __/ _ \\ / ___ / _  \\ / ___/\n",
      "   / /_) /_  __/ / / / ||/ /__ / / )_// /__\n",
      "  /  ___/ / / / / / / / |.__  / |  __/ ___/\n",
      " /  /  / /_/ / / / /_/ /___/ /| \\_/ / /\n",
      "/__/   \\__, /_/ /_____/_____/ \\____/_/\n",
      "      /____/\n",
      "\u001b[0m\n",
      "2024-11-28 10:13:19,687 - INFO:main.pytdscf._const_cls - Log file is ./DVR-Exciton_prop/main.log\n",
      "2024-11-28 10:13:19,687 - INFO:main.pytdscf.simulator_cls - Set integral of DVR basis\n",
      "2024-11-28 10:13:19,688 - INFO:main.pytdscf.simulator_cls - Set initial wave function (DVR basis)\n",
      "2024-11-28 10:13:19,688 - INFO:main.pytdscf.simulator_cls - Prepare MPS w.f.\n",
      "2024-11-28 10:13:19,688 - INFO:main.pytdscf._mps_cls - Initial MPS: 0-state with weights 0.0\n",
      "2024-11-28 10:13:19,689 - INFO:main.pytdscf._mps_cls - Initial MPS: 1-state with weights 1.0\n",
      "2024-11-28 10:13:19,763 - INFO:main.pytdscf.simulator_cls - Wave function is saved in wf_DVR-Exciton.pkl\n",
      "2024-11-28 10:13:19,763 - INFO:main.pytdscf.simulator_cls - Start initial step    0.000 [fs]\n",
      "2024-11-28 10:13:20,659 - INFO:main.pytdscf.simulator_cls - End     0 step; propagated    0.100 [fs]; AVG Krylov iteration: 6.00\n",
      "2024-11-28 10:13:21,408 - INFO:main.pytdscf.simulator_cls - End     9 step; propagated    0.900 [fs]; AVG Krylov iteration: 6.00\n",
      "2024-11-28 10:13:21,408 - INFO:main.pytdscf.simulator_cls - End simulation and save wavefunction\n",
      "2024-11-28 10:13:21,412 - INFO:main.pytdscf.simulator_cls - Wave function is saved in wf_DVR-Exciton.pkl\n"
     ]
    },
    {
     "data": {
      "text/plain": [
       "(0.006834502878971137, <pytdscf.wavefunction.WFunc at 0x12f34e5a0>)"
      ]
     },
     "execution_count": 8,
     "metadata": {},
     "output_type": "execute_result"
    }
   ],
   "source": [
    "jobname = \"DVR-Exciton\"\n",
    "simulator = Simulator(jobname, model, backend=backend, proj_gs=False)\n",
    "simulator.propagate(maxstep=10, stepsize=0.1, thresh_sil=1.0e-09)"
   ]
  },
  {
   "cell_type": "code",
   "execution_count": 9,
   "id": "0536da0b-200e-4b39-a9d9-218cc57c766c",
   "metadata": {
    "ExecuteTime": {
     "end_time": "2023-06-26T07:08:11.477726Z",
     "start_time": "2023-06-26T07:08:11.352642Z"
    },
    "scrolled": true,
    "tags": []
   },
   "outputs": [
    {
     "name": "stdout",
     "output_type": "stream",
     "text": [
      "# time [fs]\tpop_0      \tpop_1      \n",
      "0.000000000\t0.000000000\t1.000000000\t\n",
      "0.100000000\t0.002803416\t0.997196584\t\n",
      "0.200000000\t0.011094224\t0.988905776\t\n",
      "0.300000000\t0.024522727\t0.975477273\t\n",
      "0.400000000\t0.042533942\t0.957466058\t\n",
      "0.500000000\t0.064406385\t0.935593615\t\n",
      "0.600000000\t0.089300791\t0.910699209\t\n",
      "0.700000000\t0.116314102\t0.883685898\t\n",
      "0.800000000\t0.144533828\t0.855466172\t\n",
      "0.900000000\t0.173088218\t0.826911782\t\n"
     ]
    },
    {
     "name": "stderr",
     "output_type": "stream",
     "text": [
      "/opt/homebrew/Cellar/python@3.12/3.12.2_1/Frameworks/Python.framework/Versions/3.12/lib/python3.12/pty.py:95: RuntimeWarning: os.fork() was called. os.fork() is incompatible with multithreaded code, and JAX is multithreaded, so this will likely lead to a deadlock.\n",
      "  pid, fd = os.forkpty()\n",
      "/opt/homebrew/Cellar/python@3.12/3.12.2_1/Frameworks/Python.framework/Versions/3.12/lib/python3.12/pty.py:95: RuntimeWarning: Using fork() can cause Polars to deadlock in the child process.\n",
      "In addition, using fork() with Python in general is a recipe for mysterious\n",
      "deadlocks and crashes.\n",
      "\n",
      "The most likely reason you are seeing this error is because you are using the\n",
      "multiprocessing module on Linux, which uses fork() by default. This will be\n",
      "fixed in Python 3.14. Until then, you want to use the \"spawn\" context instead.\n",
      "\n",
      "See https://docs.pola.rs/user-guide/misc/multiprocessing/ for details.\n",
      "\n",
      "  pid, fd = os.forkpty()\n"
     ]
    }
   ],
   "source": [
    "!cat DVR-Exciton_prop/populations.dat"
   ]
  },
  {
   "cell_type": "markdown",
   "id": "71729ad6-1f5b-40da-9203-49df81b13839",
   "metadata": {},
   "source": [
    "## 7. Visualize populations"
   ]
  },
  {
   "cell_type": "code",
   "execution_count": 10,
   "id": "3d754287-2284-476f-89d0-f893a9b098d0",
   "metadata": {
    "ExecuteTime": {
     "end_time": "2023-06-26T07:08:34.560878Z",
     "start_time": "2023-06-26T07:08:34.414242Z"
    }
   },
   "outputs": [
    {
     "data": {
      "image/png": "[encoded data removed]",
      "text/plain": [
       "<Figure size 640x480 with 1 Axes>"
      ]
     },
     "metadata": {},
     "output_type": "display_data"
    }
   ],
   "source": [
    "# !gnuplot -e \" set xlabel 'time [fs]'; set ylabel 'population'; plot 'PropagateMultiStateSOP/populations.log' using 1:2 with lines title '0-state', 'PropagateMultiStateSOP/populations.log' using 1:3 with lines title '1-state'\"\n",
    "import matplotlib.pyplot as plt\n",
    "\n",
    "data = np.loadtxt(\"DVR-Exciton_prop/populations.dat\")\n",
    "\n",
    "plt.plot(data[:, 0], data[:, 1], label=\"0-state\")\n",
    "plt.plot(data[:, 0], data[:, 2], label=\"1-state\")\n",
    "\n",
    "plt.title(jobname)\n",
    "plt.xlabel(\"time [fs]\")\n",
    "plt.ylabel(\"State Population\")\n",
    "\n",
    "plt.legend()\n",
    "plt.show()"
   ]
  },
  {
   "cell_type": "code",
   "execution_count": 11,
   "id": "656a5b59-f019-4ef9-9384-993c345bc908",
   "metadata": {},
   "outputs": [],
   "source": [
    "import sympy\n",
    "from pympo import AssignManager, OpSite, SumOfProducts\n",
    "from pympo.operators import get_eye_site"
   ]
  },
  {
   "cell_type": "code",
   "execution_count": 12,
   "id": "8af46d8f-1f32-47a7-9cb7-2c115a164e07",
   "metadata": {},
   "outputs": [],
   "source": [
    "basis = [Exciton(nstate=2)] + [HO(nprim, freq) for freq in freqs_cm1]\n",
    "ndim = len(basis)"
   ]
  },
  {
   "cell_type": "code",
   "execution_count": 13,
   "id": "1b8863ab-db2d-497b-9bca-e2350bfa5b88",
   "metadata": {},
   "outputs": [
    {
     "data": {
      "text/plain": [
       "{\\Delta E: 0.0,\n",
       " J: 0.0001,\n",
       " lambda: 0.01,\n",
       " kappa: 0.01,\n",
       " omega^2_1: 0.008304076374771499,\n",
       " omega^2_2: 0.0020760190936928748}"
      ]
     },
     "execution_count": 13,
     "metadata": {},
     "output_type": "execute_result"
    }
   ],
   "source": [
    "lam = sympy.Symbol(\"lambda\")\n",
    "kappa = sympy.Symbol(\"kappa\")\n",
    "ΔE = sympy.Symbol(r\"\\Delta E\")\n",
    "J = sympy.Symbol(\"J\")\n",
    "omega2s = [None] + [sympy.Symbol(\"omega^2\" + f\"_{i}\") for i in range(1, ndim)]\n",
    "\n",
    "q_scale = 10.0\n",
    "\n",
    "subs = {ΔE: deltaE, J: coupleJ, lam: 0.001 * q_scale, kappa: 0.001 * q_scale}\n",
    "for omega2_val, omega2_sym in zip(omega2_au, omega2s[1:], strict=True):\n",
    "    subs[omega2_sym] = omega2_val * (q_scale**2)\n",
    "subs"
   ]
  },
  {
   "cell_type": "markdown",
   "id": "aeb76978-743d-41f2-bb32-26cfc849d128",
   "metadata": {},
   "source": [
    "ΔE = deltaE\n",
    "J = coupleJ\n",
    "lam =  0.001\n",
    "kappa =  0.001\n",
    "omega2s = [None] + omega2_au\n",
    "subs = {}"
   ]
  },
  {
   "cell_type": "code",
   "execution_count": 14,
   "id": "6728dfcb-3ac5-4883-bdec-a3ef6dfccd9f",
   "metadata": {},
   "outputs": [],
   "source": [
    "q1_list = [None] + [np.array(ho.get_grids()) / q_scale for ho in basis[1:]]\n",
    "q2_list = [None] + [q1**2 for q1 in q1_list[1:]]\n",
    "p2_list = [None] + [ho.get_2nd_derivative_matrix_dvr() for ho in basis[1:]]\n",
    "a = basis[0].get_annihilation_matrix()\n",
    "adag = basis[0].get_creation_matrix()\n",
    "a_dim = 0\n",
    "\n",
    "p2_ops = [None] + [\n",
    "    OpSite(r\"\\hat{p}^2\" + f\"_{i}\", i, value=p2_list[i]) for i in range(1, ndim)\n",
    "]\n",
    "q2_ops = [None] + [\n",
    "    OpSite(r\"\\hat{q}^2\" + f\"_{i}\", i, value=q2_list[i]) for i in range(1, ndim)\n",
    "]\n",
    "q1_ops = [None] + [\n",
    "    OpSite(r\"\\hat{q}\" + f\"_{i}\", i, value=q1_list[i]) for i in range(1, ndim)\n",
    "]\n",
    "a_ops = [OpSite(r\"\\hat{a}\" + f\"_{0}\", 0, value=a)] + [None] * 2\n",
    "adag_ops = [OpSite(r\"\\hat{a}^\\dagger\" + f\"_{0}\", 0, value=adag)] + [None] * 2\n",
    "eye = get_eye_site(a_dim, n_basis=2)"
   ]
  },
  {
   "cell_type": "code",
   "execution_count": 15,
   "id": "69a39700-dbf4-4d9a-a8e1-4ef88fa9dfa3",
   "metadata": {},
   "outputs": [
    {
     "data": {
      "text/latex": [
       "$\\displaystyle J \\left(\\hat{a}^\\dagger_0 + \\hat{a}_0\\right) + \\frac{\\Delta E \\hat{a}^\\dagger_0 \\hat{a}_0}{2} - \\frac{\\Delta E \\hat{a}_0 \\hat{a}^\\dagger_0}{2} + \\kappa \\hat{a}^\\dagger_0 \\hat{a}_0 \\hat{q}_1 + \\kappa \\hat{a}^\\dagger_0 \\hat{a}_0 \\hat{q}_2 + \\lambda \\left(\\hat{a}^\\dagger_0 + \\hat{a}_0\\right) \\hat{q}_1 + \\lambda \\left(\\hat{a}^\\dagger_0 + \\hat{a}_0\\right) \\hat{q}_2 + 0.5 \\omega^{2}_{1} \\left(\\hat{a}^\\dagger_0 \\hat{a}_0 + \\hat{a}_0 \\hat{a}^\\dagger_0\\right) \\hat{q}^2_1 + 0.5 \\omega^{2}_{2} \\left(\\hat{a}^\\dagger_0 \\hat{a}_0 + \\hat{a}_0 \\hat{a}^\\dagger_0\\right) \\hat{q}^2_2$"
      ],
      "text/plain": [
       "J*(\\hat{a}^\\dagger_0 + \\hat{a}_0) + \\Delta E*\\hat{a}^\\dagger_0*\\hat{a}_0/2 - \\Delta E*\\hat{a}_0*\\hat{a}^\\dagger_0/2 + kappa*\\hat{a}^\\dagger_0*\\hat{a}_0*\\hat{q}_1 + kappa*\\hat{a}^\\dagger_0*\\hat{a}_0*\\hat{q}_2 + lambda*(\\hat{a}^\\dagger_0 + \\hat{a}_0)*\\hat{q}_1 + lambda*(\\hat{a}^\\dagger_0 + \\hat{a}_0)*\\hat{q}_2 + 0.5*omega^2_1*(\\hat{a}^\\dagger_0*\\hat{a}_0 + \\hat{a}_0*\\hat{a}^\\dagger_0)*\\hat{q}^2_1 + 0.5*omega^2_2*(\\hat{a}^\\dagger_0*\\hat{a}_0 + \\hat{a}_0*\\hat{a}^\\dagger_0)*\\hat{q}^2_2"
      ]
     },
     "metadata": {},
     "output_type": "display_data"
    }
   ],
   "source": [
    "pot = SumOfProducts()\n",
    "a_dim = 0  # estate-mode\n",
    "b_dim = set([0, 1, 2]) - set([a_dim])  # bath-mode\n",
    "for i in b_dim:\n",
    "    pot += 0.5 * omega2s[i] * adag_ops[a_dim] * a_ops[a_dim] * q2_ops[i]\n",
    "    pot += 0.5 * omega2s[i] * a_ops[a_dim] * adag_ops[a_dim] * q2_ops[i]\n",
    "    pot += kappa * adag_ops[a_dim] * a_ops[a_dim] * q1_ops[i]\n",
    "    pot += lam * q1_ops[i] * a_ops[a_dim]\n",
    "    pot += lam * q1_ops[i] * adag_ops[a_dim]\n",
    "\n",
    "pot += ΔE / 2 * adag_ops[a_dim] * a_ops[a_dim]\n",
    "pot += -ΔE / 2 * a_ops[a_dim] * adag_ops[a_dim]\n",
    "pot += J * (adag_ops[a_dim] + a_ops[a_dim])\n",
    "\n",
    "\n",
    "pot = pot.simplify()  # This method find concatenatable operator in advance like q_i*a_j + q_i*a†_j = q_i * (a_j+a†_j)\n",
    "display(pot.symbol)"
   ]
  },
  {
   "cell_type": "code",
   "execution_count": 16,
   "id": "04aa64f5-f38b-43f9-b45b-a17656846e01",
   "metadata": {},
   "outputs": [
    {
     "data": {
      "text/latex": [
       "$\\displaystyle \\left[\\begin{matrix}\\hat{a}^\\dagger_0 \\hat{a}_0 + \\hat{a}_0 \\hat{a}^\\dagger_0 & \\hat{a}^\\dagger_0 \\hat{a}_0 & \\hat{a}^\\dagger_0 + \\hat{a}_0 & \\hat{a}^\\dagger_0 \\hat{a}_0 + \\hat{a}_0 \\hat{a}^\\dagger_0 & \\hat{a}^\\dagger_0 \\hat{a}_0 & \\hat{a}^\\dagger_0 + \\hat{a}_0 & \\hat{a}^\\dagger_0 \\hat{a}_0 & \\hat{a}_0 \\hat{a}^\\dagger_0 & \\hat{a}^\\dagger_0 + \\hat{a}_0\\end{matrix}\\right]$"
      ],
      "text/plain": [
       "Matrix([[\\hat{a}^\\dagger_0*\\hat{a}_0 + \\hat{a}_0*\\hat{a}^\\dagger_0, \\hat{a}^\\dagger_0*\\hat{a}_0, \\hat{a}^\\dagger_0 + \\hat{a}_0, \\hat{a}^\\dagger_0*\\hat{a}_0 + \\hat{a}_0*\\hat{a}^\\dagger_0, \\hat{a}^\\dagger_0*\\hat{a}_0, \\hat{a}^\\dagger_0 + \\hat{a}_0, \\hat{a}^\\dagger_0*\\hat{a}_0, \\hat{a}_0*\\hat{a}^\\dagger_0, \\hat{a}^\\dagger_0 + \\hat{a}_0]])"
      ]
     },
     "metadata": {},
     "output_type": "display_data"
    },
    {
     "data": {
      "text/latex": [
       "$\\displaystyle \\left[\\begin{matrix}\\hat{q}^2_1 & 0 & 0 & 0 & 0 & 0 & 0 & 0 & 0\\\\0 & \\hat{q}_1 & 0 & 0 & 0 & 0 & 0 & 0 & 0\\\\0 & 0 & \\hat{q}_1 & 0 & 0 & 0 & 0 & 0 & 0\\\\0 & 0 & 0 & 1 & 0 & 0 & 0 & 0 & 0\\\\0 & 0 & 0 & 0 & 1 & 0 & 0 & 0 & 0\\\\0 & 0 & 0 & 0 & 0 & 1 & 0 & 0 & 0\\\\0 & 0 & 0 & 0 & 0 & 0 & 1 & 0 & 0\\\\0 & 0 & 0 & 0 & 0 & 0 & 0 & 1 & 0\\\\0 & 0 & 0 & 0 & 0 & 0 & 0 & 0 & 1\\end{matrix}\\right]$"
      ],
      "text/plain": [
       "Matrix([\n",
       "[\\hat{q}^2_1,         0,         0, 0, 0, 0, 0, 0, 0],\n",
       "[          0, \\hat{q}_1,         0, 0, 0, 0, 0, 0, 0],\n",
       "[          0,         0, \\hat{q}_1, 0, 0, 0, 0, 0, 0],\n",
       "[          0,         0,         0, 1, 0, 0, 0, 0, 0],\n",
       "[          0,         0,         0, 0, 1, 0, 0, 0, 0],\n",
       "[          0,         0,         0, 0, 0, 1, 0, 0, 0],\n",
       "[          0,         0,         0, 0, 0, 0, 1, 0, 0],\n",
       "[          0,         0,         0, 0, 0, 0, 0, 1, 0],\n",
       "[          0,         0,         0, 0, 0, 0, 0, 0, 1]])"
      ]
     },
     "metadata": {},
     "output_type": "display_data"
    },
    {
     "data": {
      "text/latex": [
       "$\\displaystyle \\left[\\begin{matrix}0.5 \\omega^{2}_{1}\\\\\\kappa\\\\\\lambda\\\\0.5 \\omega^{2}_{2} \\hat{q}^2_2\\\\\\kappa \\hat{q}_2\\\\\\lambda \\hat{q}_2\\\\\\frac{\\Delta E}{2}\\\\- \\frac{\\Delta E}{2}\\\\J\\end{matrix}\\right]$"
      ],
      "text/plain": [
       "Matrix([\n",
       "[            0.5*omega^2_1],\n",
       "[                    kappa],\n",
       "[                   lambda],\n",
       "[0.5*omega^2_2*\\hat{q}^2_2],\n",
       "[          kappa*\\hat{q}_2],\n",
       "[         lambda*\\hat{q}_2],\n",
       "[               \\Delta E/2],\n",
       "[              -\\Delta E/2],\n",
       "[                        J]])"
      ]
     },
     "metadata": {},
     "output_type": "display_data"
    }
   ],
   "source": [
    "am = AssignManager(pot)\n",
    "display(*am.Wsym)"
   ]
  },
  {
   "cell_type": "code",
   "execution_count": 17,
   "id": "d89223ab-b039-46a8-82bf-c6449bf7aee9",
   "metadata": {},
   "outputs": [
    {
     "name": "stdout",
     "output_type": "stream",
     "text": [
      "W0 W1 W2 =\n"
     ]
    },
    {
     "data": {
      "text/latex": [
       "$\\displaystyle J \\hat{a}^\\dagger_0 + J \\hat{a}_0 + \\frac{\\Delta E \\hat{a}^\\dagger_0 \\hat{a}_0}{2} - \\frac{\\Delta E \\hat{a}_0 \\hat{a}^\\dagger_0}{2} + \\kappa \\hat{a}^\\dagger_0 \\hat{a}_0 \\hat{q}_1 + \\kappa \\hat{a}^\\dagger_0 \\hat{a}_0 \\hat{q}_2 + \\lambda \\hat{a}^\\dagger_0 \\hat{q}_1 + \\lambda \\hat{a}^\\dagger_0 \\hat{q}_2 + \\lambda \\hat{a}_0 \\hat{q}_1 + \\lambda \\hat{a}_0 \\hat{q}_2 + 0.5 \\omega^{2}_{1} \\hat{a}^\\dagger_0 \\hat{a}_0 \\hat{q}^2_1 + 0.5 \\omega^{2}_{1} \\hat{a}_0 \\hat{a}^\\dagger_0 \\hat{q}^2_1 + 0.5 \\omega^{2}_{2} \\hat{a}^\\dagger_0 \\hat{a}_0 \\hat{q}^2_2 + 0.5 \\omega^{2}_{2} \\hat{a}_0 \\hat{a}^\\dagger_0 \\hat{q}^2_2$"
      ],
      "text/plain": [
       "J*\\hat{a}^\\dagger_0 + J*\\hat{a}_0 + \\Delta E*\\hat{a}^\\dagger_0*\\hat{a}_0/2 - \\Delta E*\\hat{a}_0*\\hat{a}^\\dagger_0/2 + kappa*\\hat{a}^\\dagger_0*\\hat{a}_0*\\hat{q}_1 + kappa*\\hat{a}^\\dagger_0*\\hat{a}_0*\\hat{q}_2 + lambda*\\hat{a}^\\dagger_0*\\hat{q}_1 + lambda*\\hat{a}^\\dagger_0*\\hat{q}_2 + lambda*\\hat{a}_0*\\hat{q}_1 + lambda*\\hat{a}_0*\\hat{q}_2 + 0.5*omega^2_1*\\hat{a}^\\dagger_0*\\hat{a}_0*\\hat{q}^2_1 + 0.5*omega^2_1*\\hat{a}_0*\\hat{a}^\\dagger_0*\\hat{q}^2_1 + 0.5*omega^2_2*\\hat{a}^\\dagger_0*\\hat{a}_0*\\hat{q}^2_2 + 0.5*omega^2_2*\\hat{a}_0*\\hat{a}^\\dagger_0*\\hat{q}^2_2"
      ]
     },
     "metadata": {},
     "output_type": "display_data"
    }
   ],
   "source": [
    "W_prod = sympy.Mul(*am.Wsym)\n",
    "print(*[f\"W{i}\" for i in range(am.ndim)], \"=\")\n",
    "display(W_prod[0].expand())"
   ]
  },
  {
   "cell_type": "code",
   "execution_count": 18,
   "id": "07b4d2e2-fa36-4cd0-b003-e8364e9b4e49",
   "metadata": {},
   "outputs": [
    {
     "name": "stderr",
     "output_type": "stream",
     "text": [
      "\u001b[32m2024-11-28 10:13:21.974\u001b[0m | \u001b[1mINFO    \u001b[0m | \u001b[36mpympo.bipartite\u001b[0m:\u001b[36massign\u001b[0m:\u001b[36m256\u001b[0m - \u001b[1massigned isite=0/3\u001b[0m\n",
      "\u001b[32m2024-11-28 10:13:21.977\u001b[0m | \u001b[1mINFO    \u001b[0m | \u001b[36mpympo.bipartite\u001b[0m:\u001b[36massign\u001b[0m:\u001b[36m256\u001b[0m - \u001b[1massigned isite=1/3\u001b[0m\n",
      "\u001b[32m2024-11-28 10:13:21.978\u001b[0m | \u001b[1mINFO    \u001b[0m | \u001b[36mpympo.bipartite\u001b[0m:\u001b[36massign\u001b[0m:\u001b[36m256\u001b[0m - \u001b[1massigned isite=2/3\u001b[0m\n"
     ]
    },
    {
     "data": {
      "text/latex": [
       "$\\displaystyle \\left[\\begin{matrix}\\hat{a}^\\dagger_0 \\hat{a}_0 + \\hat{a}_0 \\hat{a}^\\dagger_0 & \\hat{a}^\\dagger_0 \\hat{a}_0 & \\hat{a}_0 \\hat{a}^\\dagger_0 & \\hat{a}^\\dagger_0 + \\hat{a}_0\\end{matrix}\\right]$"
      ],
      "text/plain": [
       "Matrix([[\\hat{a}^\\dagger_0*\\hat{a}_0 + \\hat{a}_0*\\hat{a}^\\dagger_0, \\hat{a}^\\dagger_0*\\hat{a}_0, \\hat{a}_0*\\hat{a}^\\dagger_0, \\hat{a}^\\dagger_0 + \\hat{a}_0]])"
      ]
     },
     "metadata": {},
     "output_type": "display_data"
    },
    {
     "data": {
      "text/latex": [
       "$\\displaystyle \\left[\\begin{matrix}0.5 \\omega^{2}_{1} \\hat{q}^2_1 & 0.5 \\omega^{2}_{2} & 0\\\\\\frac{\\Delta E}{2} + \\kappa \\hat{q}_1 & 0 & \\kappa\\\\- \\frac{\\Delta E}{2} & 0 & 0\\\\J + \\lambda \\hat{q}_1 & 0 & \\lambda\\end{matrix}\\right]$"
      ],
      "text/plain": [
       "Matrix([\n",
       "[   0.5*omega^2_1*\\hat{q}^2_1, 0.5*omega^2_2,      0],\n",
       "[\\Delta E/2 + kappa*\\hat{q}_1,             0,  kappa],\n",
       "[                 -\\Delta E/2,             0,      0],\n",
       "[        J + lambda*\\hat{q}_1,             0, lambda]])"
      ]
     },
     "metadata": {},
     "output_type": "display_data"
    },
    {
     "data": {
      "text/latex": [
       "$\\displaystyle \\left[\\begin{matrix}1\\\\\\hat{q}^2_2\\\\\\hat{q}_2\\end{matrix}\\right]$"
      ],
      "text/plain": [
       "Matrix([\n",
       "[          1],\n",
       "[\\hat{q}^2_2],\n",
       "[  \\hat{q}_2]])"
      ]
     },
     "metadata": {},
     "output_type": "display_data"
    },
    {
     "name": "stdout",
     "output_type": "stream",
     "text": [
      "W0 W1 W2 =\n"
     ]
    },
    {
     "data": {
      "text/latex": [
       "$\\displaystyle J \\hat{a}^\\dagger_0 + J \\hat{a}_0 + \\frac{\\Delta E \\hat{a}^\\dagger_0 \\hat{a}_0}{2} - \\frac{\\Delta E \\hat{a}_0 \\hat{a}^\\dagger_0}{2} + \\kappa \\hat{a}^\\dagger_0 \\hat{a}_0 \\hat{q}_1 + \\kappa \\hat{a}^\\dagger_0 \\hat{a}_0 \\hat{q}_2 + \\lambda \\hat{a}^\\dagger_0 \\hat{q}_1 + \\lambda \\hat{a}^\\dagger_0 \\hat{q}_2 + \\lambda \\hat{a}_0 \\hat{q}_1 + \\lambda \\hat{a}_0 \\hat{q}_2 + 0.5 \\omega^{2}_{1} \\hat{a}^\\dagger_0 \\hat{a}_0 \\hat{q}^2_1 + 0.5 \\omega^{2}_{1} \\hat{a}_0 \\hat{a}^\\dagger_0 \\hat{q}^2_1 + 0.5 \\omega^{2}_{2} \\hat{a}^\\dagger_0 \\hat{a}_0 \\hat{q}^2_2 + 0.5 \\omega^{2}_{2} \\hat{a}_0 \\hat{a}^\\dagger_0 \\hat{q}^2_2$"
      ],
      "text/plain": [
       "J*\\hat{a}^\\dagger_0 + J*\\hat{a}_0 + \\Delta E*\\hat{a}^\\dagger_0*\\hat{a}_0/2 - \\Delta E*\\hat{a}_0*\\hat{a}^\\dagger_0/2 + kappa*\\hat{a}^\\dagger_0*\\hat{a}_0*\\hat{q}_1 + kappa*\\hat{a}^\\dagger_0*\\hat{a}_0*\\hat{q}_2 + lambda*\\hat{a}^\\dagger_0*\\hat{q}_1 + lambda*\\hat{a}^\\dagger_0*\\hat{q}_2 + lambda*\\hat{a}_0*\\hat{q}_1 + lambda*\\hat{a}_0*\\hat{q}_2 + 0.5*omega^2_1*\\hat{a}^\\dagger_0*\\hat{a}_0*\\hat{q}^2_1 + 0.5*omega^2_1*\\hat{a}_0*\\hat{a}^\\dagger_0*\\hat{q}^2_1 + 0.5*omega^2_2*\\hat{a}^\\dagger_0*\\hat{a}_0*\\hat{q}^2_2 + 0.5*omega^2_2*\\hat{a}_0*\\hat{a}^\\dagger_0*\\hat{q}^2_2"
      ]
     },
     "metadata": {},
     "output_type": "display_data"
    },
    {
     "data": {
      "text/latex": [
       "$\\displaystyle J \\hat{a}^\\dagger_0 + J \\hat{a}_0 + \\frac{\\Delta E \\hat{a}^\\dagger_0 \\hat{a}_0}{2} - \\frac{\\Delta E \\hat{a}_0 \\hat{a}^\\dagger_0}{2} + \\kappa \\hat{a}^\\dagger_0 \\hat{a}_0 \\hat{q}_1 + \\kappa \\hat{a}^\\dagger_0 \\hat{a}_0 \\hat{q}_2 + \\lambda \\hat{a}^\\dagger_0 \\hat{q}_1 + \\lambda \\hat{a}^\\dagger_0 \\hat{q}_2 + \\lambda \\hat{a}_0 \\hat{q}_1 + \\lambda \\hat{a}_0 \\hat{q}_2 + 0.5 \\omega^{2}_{1} \\hat{a}^\\dagger_0 \\hat{a}_0 \\hat{q}^2_1 + 0.5 \\omega^{2}_{1} \\hat{a}_0 \\hat{a}^\\dagger_0 \\hat{q}^2_1 + 0.5 \\omega^{2}_{2} \\hat{a}^\\dagger_0 \\hat{a}_0 \\hat{q}^2_2 + 0.5 \\omega^{2}_{2} \\hat{a}_0 \\hat{a}^\\dagger_0 \\hat{q}^2_2$"
      ],
      "text/plain": [
       "J*\\hat{a}^\\dagger_0 + J*\\hat{a}_0 + \\Delta E*\\hat{a}^\\dagger_0*\\hat{a}_0/2 - \\Delta E*\\hat{a}_0*\\hat{a}^\\dagger_0/2 + kappa*\\hat{a}^\\dagger_0*\\hat{a}_0*\\hat{q}_1 + kappa*\\hat{a}^\\dagger_0*\\hat{a}_0*\\hat{q}_2 + lambda*\\hat{a}^\\dagger_0*\\hat{q}_1 + lambda*\\hat{a}^\\dagger_0*\\hat{q}_2 + lambda*\\hat{a}_0*\\hat{q}_1 + lambda*\\hat{a}_0*\\hat{q}_2 + 0.5*omega^2_1*\\hat{a}^\\dagger_0*\\hat{a}_0*\\hat{q}^2_1 + 0.5*omega^2_1*\\hat{a}_0*\\hat{a}^\\dagger_0*\\hat{q}^2_1 + 0.5*omega^2_2*\\hat{a}^\\dagger_0*\\hat{a}_0*\\hat{q}^2_2 + 0.5*omega^2_2*\\hat{a}_0*\\hat{a}^\\dagger_0*\\hat{q}^2_2"
      ]
     },
     "metadata": {},
     "output_type": "display_data"
    },
    {
     "data": {
      "text/latex": [
       "$\\displaystyle 0$"
      ],
      "text/plain": [
       "0"
      ]
     },
     "metadata": {},
     "output_type": "display_data"
    }
   ],
   "source": [
    "am.assign()\n",
    "display(*am.Wsym)\n",
    "W_prod = sympy.Mul(*am.Wsym)\n",
    "print(*[f\"W{i}\" for i in range(am.ndim)], \"=\")\n",
    "display(W_prod[0].expand())\n",
    "display(pot.symbol.expand())\n",
    "display((W_prod[0].expand() - pot.symbol.expand()).simplify())\n",
    "# assert W_prod[0].expand() == pot.symbol.expand()"
   ]
  },
  {
   "cell_type": "code",
   "execution_count": 19,
   "id": "1d0adea0-4beb-493b-a517-afaed815c8f0",
   "metadata": {},
   "outputs": [],
   "source": [
    "potential_mpo = am.numerical_mpo(subs=subs)"
   ]
  },
  {
   "cell_type": "code",
   "execution_count": 20,
   "id": "e324fcf2-156f-435b-bbd6-8df7323edce2",
   "metadata": {},
   "outputs": [
    {
     "name": "stdout",
     "output_type": "stream",
     "text": [
      "[[[ 4.63945995e-02+0.j  1.03800955e-03+0.j  0.00000000e+00+0.j]\n",
      "  [ 2.34076600e-02+0.j  1.03800955e-03+0.j  0.00000000e+00+0.j]\n",
      "  [ 9.82641479e-03+0.j  1.03800955e-03+0.j  0.00000000e+00+0.j]\n",
      "  [ 2.38536032e-03+0.j  1.03800955e-03+0.j  0.00000000e+00+0.j]\n",
      "  [ 2.09624359e-33+0.j  1.03800955e-03+0.j  0.00000000e+00+0.j]\n",
      "  [ 2.38536032e-03+0.j  1.03800955e-03+0.j  0.00000000e+00+0.j]\n",
      "  [ 9.82641479e-03+0.j  1.03800955e-03+0.j  0.00000000e+00+0.j]\n",
      "  [ 2.34076600e-02+0.j  1.03800955e-03+0.j  0.00000000e+00+0.j]\n",
      "  [ 4.63945995e-02+0.j  1.03800955e-03+0.j  0.00000000e+00+0.j]]\n",
      "\n",
      " [[-3.34274344e-02+0.j  0.00000000e+00+0.j  1.00000000e-02+0.j]\n",
      "  [-2.37436964e-02+0.j  0.00000000e+00+0.j  1.00000000e-02+0.j]\n",
      "  [-1.53839152e-02+0.j  0.00000000e+00+0.j  1.00000000e-02+0.j]\n",
      "  [-7.57960067e-03+0.j  0.00000000e+00+0.j  1.00000000e-02+0.j]\n",
      "  [-7.10542736e-18+0.j  0.00000000e+00+0.j  1.00000000e-02+0.j]\n",
      "  [ 7.57960067e-03+0.j  0.00000000e+00+0.j  1.00000000e-02+0.j]\n",
      "  [ 1.53839152e-02+0.j  0.00000000e+00+0.j  1.00000000e-02+0.j]\n",
      "  [ 2.37436964e-02+0.j  0.00000000e+00+0.j  1.00000000e-02+0.j]\n",
      "  [ 3.34274344e-02+0.j  0.00000000e+00+0.j  1.00000000e-02+0.j]]\n",
      "\n",
      " [[ 0.00000000e+00+0.j  0.00000000e+00+0.j  0.00000000e+00+0.j]\n",
      "  [ 0.00000000e+00+0.j  0.00000000e+00+0.j  0.00000000e+00+0.j]\n",
      "  [ 0.00000000e+00+0.j  0.00000000e+00+0.j  0.00000000e+00+0.j]\n",
      "  [ 0.00000000e+00+0.j  0.00000000e+00+0.j  0.00000000e+00+0.j]\n",
      "  [ 0.00000000e+00+0.j  0.00000000e+00+0.j  0.00000000e+00+0.j]\n",
      "  [ 0.00000000e+00+0.j  0.00000000e+00+0.j  0.00000000e+00+0.j]\n",
      "  [ 0.00000000e+00+0.j  0.00000000e+00+0.j  0.00000000e+00+0.j]\n",
      "  [ 0.00000000e+00+0.j  0.00000000e+00+0.j  0.00000000e+00+0.j]\n",
      "  [ 0.00000000e+00+0.j  0.00000000e+00+0.j  0.00000000e+00+0.j]]\n",
      "\n",
      " [[-3.33274344e-02+0.j  0.00000000e+00+0.j  1.00000000e-02+0.j]\n",
      "  [-2.36436964e-02+0.j  0.00000000e+00+0.j  1.00000000e-02+0.j]\n",
      "  [-1.52839152e-02+0.j  0.00000000e+00+0.j  1.00000000e-02+0.j]\n",
      "  [-7.47960067e-03+0.j  0.00000000e+00+0.j  1.00000000e-02+0.j]\n",
      "  [ 1.00000000e-04+0.j  0.00000000e+00+0.j  1.00000000e-02+0.j]\n",
      "  [ 7.67960067e-03+0.j  0.00000000e+00+0.j  1.00000000e-02+0.j]\n",
      "  [ 1.54839152e-02+0.j  0.00000000e+00+0.j  1.00000000e-02+0.j]\n",
      "  [ 2.38436964e-02+0.j  0.00000000e+00+0.j  1.00000000e-02+0.j]\n",
      "  [ 3.35274344e-02+0.j  0.00000000e+00+0.j  1.00000000e-02+0.j]]]\n",
      "[-3.34274344e+00 -2.37436964e+00 -1.53839152e+00 -7.57960067e-01\n",
      " -7.10542736e-16  7.57960067e-01  1.53839152e+00  2.37436964e+00\n",
      "  3.34274344e+00]\n",
      "0.287251731752879*omega^2_1\n"
     ]
    }
   ],
   "source": [
    "print(potential_mpo[1])\n",
    "print(q1_list[1])\n",
    "print(q2_list[1][3] * omega2s[1] / 2 - deltaE / 2)"
   ]
  },
  {
   "cell_type": "code",
   "execution_count": 21,
   "id": "2c98f8fc-8379-4a0f-a463-92390b5d4a28",
   "metadata": {},
   "outputs": [],
   "source": [
    "potential = [\n",
    "    [{((0, 0), 1, 2): TensorOperator(mpo=potential_mpo, legs=(0, 0, 1, 2))}]\n",
    "]"
   ]
  },
  {
   "cell_type": "code",
   "execution_count": 22,
   "id": "afea6bd1-cbab-4432-ac7f-72364b030ec1",
   "metadata": {},
   "outputs": [
    {
     "data": {
      "text/latex": [
       "$\\displaystyle - 0.5 \\hat{1}_0 \\hat{p}^2_1 - 0.5 \\hat{1}_0 \\hat{p}^2_2$"
      ],
      "text/plain": [
       "-0.5*\\hat{1}_0*\\hat{p}^2_1 - 0.5*\\hat{1}_0*\\hat{p}^2_2"
      ]
     },
     "execution_count": 22,
     "metadata": {},
     "output_type": "execute_result"
    }
   ],
   "source": [
    "kin = SumOfProducts()\n",
    "for i in b_dim:\n",
    "    kin -= 1 / 2 * p2_ops[i] * eye  # * a_ops[a_dim] * adag_ops[a_dim] / 2\n",
    "    # kin += 1 / 2 * p2_ops[i] * eye# * adag_ops[a_dim] * a_ops[a_dim] / 2\n",
    "kin = kin.simplify()\n",
    "kin.symbol"
   ]
  },
  {
   "cell_type": "code",
   "execution_count": 23,
   "id": "dbd688af-0919-4379-89a9-5b18edd3e55a",
   "metadata": {},
   "outputs": [
    {
     "name": "stderr",
     "output_type": "stream",
     "text": [
      "\u001b[32m2024-11-28 10:13:22.085\u001b[0m | \u001b[1mINFO    \u001b[0m | \u001b[36mpympo.bipartite\u001b[0m:\u001b[36massign\u001b[0m:\u001b[36m256\u001b[0m - \u001b[1massigned isite=0/3\u001b[0m\n",
      "\u001b[32m2024-11-28 10:13:22.086\u001b[0m | \u001b[1mINFO    \u001b[0m | \u001b[36mpympo.bipartite\u001b[0m:\u001b[36massign\u001b[0m:\u001b[36m256\u001b[0m - \u001b[1massigned isite=1/3\u001b[0m\n",
      "\u001b[32m2024-11-28 10:13:22.086\u001b[0m | \u001b[1mINFO    \u001b[0m | \u001b[36mpympo.bipartite\u001b[0m:\u001b[36massign\u001b[0m:\u001b[36m256\u001b[0m - \u001b[1massigned isite=2/3\u001b[0m\n"
     ]
    },
    {
     "data": {
      "text/latex": [
       "$\\displaystyle \\left[\\begin{matrix}1\\end{matrix}\\right]$"
      ],
      "text/plain": [
       "Matrix([[1]])"
      ]
     },
     "metadata": {},
     "output_type": "display_data"
    },
    {
     "data": {
      "text/latex": [
       "$\\displaystyle \\left[\\begin{matrix}\\hat{p}^2_1 & 1\\end{matrix}\\right]$"
      ],
      "text/plain": [
       "Matrix([[\\hat{p}^2_1, 1]])"
      ]
     },
     "metadata": {},
     "output_type": "display_data"
    },
    {
     "data": {
      "text/latex": [
       "$\\displaystyle \\left[\\begin{matrix}-0.5\\\\- 0.5 \\hat{p}^2_2\\end{matrix}\\right]$"
      ],
      "text/plain": [
       "Matrix([\n",
       "[            -0.5],\n",
       "[-0.5*\\hat{p}^2_2]])"
      ]
     },
     "metadata": {},
     "output_type": "display_data"
    }
   ],
   "source": [
    "am = AssignManager(kin)\n",
    "am.assign()\n",
    "display(*am.Wsym)\n",
    "kinetic_mpo = am.numerical_mpo()"
   ]
  },
  {
   "cell_type": "code",
   "execution_count": 24,
   "id": "684724e7-c7a9-466a-ab7f-a8b294ffc108",
   "metadata": {},
   "outputs": [],
   "source": [
    "kinetic = [\n",
    "    [\n",
    "        {\n",
    "            (0, (1, 1), (2, 2)): TensorOperator(\n",
    "                mpo=kinetic_mpo, legs=(0, 1, 1, 2, 2)\n",
    "            )\n",
    "        }\n",
    "    ]\n",
    "]\n",
    "# kinetic = construct_kinetic_operator(basis[1:])"
   ]
  },
  {
   "cell_type": "code",
   "execution_count": 25,
   "id": "36480103-2ff4-4184-ba27-2579309462c2",
   "metadata": {},
   "outputs": [
    {
     "name": "stderr",
     "output_type": "stream",
     "text": [
      "2024-11-28 10:13:22,123 - INFO:main.pytdscf.model_cls - The layer of SPF is not used.\n",
      "2024-11-28 10:13:22,123 - WARNING:main.pytdscf._const_cls - rebind const jobname\n",
      "2024-11-28 10:13:22,124 - WARNING:main.pytdscf._const_cls - rebind const logger\n",
      "2024-11-28 10:13:22,124 - WARNING:main.pytdscf._const_cls - rebind const logger\n",
      "2024-11-28 10:13:22,125 - INFO:main.pytdscf._const_cls - \u001b[1m\u001b[35m\n",
      "     ____     __________   .____ ____   _____\n",
      "    / _  |   /__  __/ _ \\ / ___ / _  \\ / ___/\n",
      "   / /_) /_  __/ / / / ||/ /__ / / )_// /__\n",
      "  /  ___/ / / / / / / / |.__  / |  __/ ___/\n",
      " /  /  / /_/ / / / /_/ /___/ /| \\_/ / /\n",
      "/__/   \\__, /_/ /_____/_____/ \\____/_/\n",
      "      /____/\n",
      "\u001b[0m\n",
      "2024-11-28 10:13:22,125 - INFO:main.pytdscf._const_cls - \u001b[1m\u001b[35m\n",
      "     ____     __________   .____ ____   _____\n",
      "    / _  |   /__  __/ _ \\ / ___ / _  \\ / ___/\n",
      "   / /_) /_  __/ / / / ||/ /__ / / )_// /__\n",
      "  /  ___/ / / / / / / / |.__  / |  __/ ___/\n",
      " /  /  / /_/ / / / /_/ /___/ /| \\_/ / /\n",
      "/__/   \\__, /_/ /_____/_____/ \\____/_/\n",
      "      /____/\n",
      "\u001b[0m\n",
      "2024-11-28 10:13:22,125 - INFO:main.pytdscf._const_cls - Log file is ./DVR_Exciton2_prop/main.log\n",
      "2024-11-28 10:13:22,125 - INFO:main.pytdscf._const_cls - Log file is ./DVR_Exciton2_prop/main.log\n",
      "2024-11-28 10:13:22,126 - WARNING:main.pytdscf._const_cls - rebind const doRestart\n",
      "2024-11-28 10:13:22,126 - WARNING:main.pytdscf._const_cls - rebind const doRestart\n",
      "2024-11-28 10:13:22,126 - WARNING:main.pytdscf._const_cls - rebind const doRelax\n",
      "2024-11-28 10:13:22,126 - WARNING:main.pytdscf._const_cls - rebind const doRelax\n",
      "2024-11-28 10:13:22,127 - WARNING:main.pytdscf._const_cls - rebind const doAppDipo\n",
      "2024-11-28 10:13:22,127 - WARNING:main.pytdscf._const_cls - rebind const doAppDipo\n",
      "2024-11-28 10:13:22,127 - WARNING:main.pytdscf._const_cls - rebind const doDVR\n",
      "2024-11-28 10:13:22,127 - WARNING:main.pytdscf._const_cls - rebind const doDVR\n",
      "2024-11-28 10:13:22,128 - WARNING:main.pytdscf._const_cls - rebind const savefile_ext\n",
      "2024-11-28 10:13:22,128 - WARNING:main.pytdscf._const_cls - rebind const savefile_ext\n",
      "2024-11-28 10:13:22,128 - WARNING:main.pytdscf._const_cls - rebind const loadfile_ext\n",
      "2024-11-28 10:13:22,128 - WARNING:main.pytdscf._const_cls - rebind const loadfile_ext\n",
      "2024-11-28 10:13:22,128 - WARNING:main.pytdscf._const_cls - rebind const time_fs_init\n",
      "2024-11-28 10:13:22,128 - WARNING:main.pytdscf._const_cls - rebind const time_fs_init\n",
      "2024-11-28 10:13:22,129 - WARNING:main.pytdscf._const_cls - rebind const maxstep\n",
      "2024-11-28 10:13:22,129 - WARNING:main.pytdscf._const_cls - rebind const maxstep\n",
      "2024-11-28 10:13:22,129 - WARNING:main.pytdscf._const_cls - rebind const doOrtho\n",
      "2024-11-28 10:13:22,129 - WARNING:main.pytdscf._const_cls - rebind const doOrtho\n",
      "2024-11-28 10:13:22,130 - WARNING:main.pytdscf._const_cls - rebind const doTDHamil\n",
      "2024-11-28 10:13:22,130 - WARNING:main.pytdscf._const_cls - rebind const doTDHamil\n",
      "2024-11-28 10:13:22,130 - WARNING:main.pytdscf._const_cls - rebind const oldcode\n",
      "2024-11-28 10:13:22,130 - WARNING:main.pytdscf._const_cls - rebind const oldcode\n",
      "2024-11-28 10:13:22,130 - WARNING:main.pytdscf._const_cls - rebind const use_jax\n",
      "2024-11-28 10:13:22,130 - WARNING:main.pytdscf._const_cls - rebind const use_jax\n",
      "2024-11-28 10:13:22,131 - WARNING:main.pytdscf._const_cls - rebind const thresh_exp\n",
      "2024-11-28 10:13:22,131 - WARNING:main.pytdscf._const_cls - rebind const thresh_exp\n",
      "2024-11-28 10:13:22,131 - WARNING:main.pytdscf._const_cls - rebind const standard_method\n",
      "2024-11-28 10:13:22,131 - WARNING:main.pytdscf._const_cls - rebind const standard_method\n",
      "2024-11-28 10:13:22,131 - INFO:main.pytdscf.simulator_cls - Set integral of DVR basis\n",
      "2024-11-28 10:13:22,131 - INFO:main.pytdscf.simulator_cls - Set integral of DVR basis\n",
      "2024-11-28 10:13:22,132 - INFO:main.pytdscf.simulator_cls - Set initial wave function (DVR basis)\n",
      "2024-11-28 10:13:22,132 - INFO:main.pytdscf.simulator_cls - Set initial wave function (DVR basis)\n",
      "2024-11-28 10:13:22,132 - INFO:main.pytdscf.simulator_cls - Prepare MPS w.f.\n",
      "2024-11-28 10:13:22,132 - INFO:main.pytdscf.simulator_cls - Prepare MPS w.f.\n",
      "2024-11-28 10:13:22,132 - INFO:main.pytdscf._mps_cls - Initial MPS: 0-state with weights 1.0\n",
      "2024-11-28 10:13:22,132 - INFO:main.pytdscf._mps_cls - Initial MPS: 0-state with weights 1.0\n",
      "2024-11-28 10:13:22,232 - INFO:main.pytdscf.simulator_cls - Wave function is saved in wf_DVR_Exciton2.pkl\n",
      "2024-11-28 10:13:22,232 - INFO:main.pytdscf.simulator_cls - Wave function is saved in wf_DVR_Exciton2.pkl\n",
      "2024-11-28 10:13:22,234 - INFO:main.pytdscf.simulator_cls - Start initial step    0.000 [fs]\n",
      "2024-11-28 10:13:22,234 - INFO:main.pytdscf.simulator_cls - Start initial step    0.000 [fs]\n",
      "2024-11-28 10:13:23,205 - INFO:main.pytdscf.simulator_cls - End     0 step; propagated    0.100 [fs]; AVG Krylov iteration: 5.89\n",
      "2024-11-28 10:13:23,205 - INFO:main.pytdscf.simulator_cls - End     0 step; propagated    0.100 [fs]; AVG Krylov iteration: 5.89\n",
      "2024-11-28 10:13:23,674 - INFO:main.pytdscf.simulator_cls - End     9 step; propagated    0.900 [fs]; AVG Krylov iteration: 5.50\n",
      "2024-11-28 10:13:23,674 - INFO:main.pytdscf.simulator_cls - End     9 step; propagated    0.900 [fs]; AVG Krylov iteration: 5.50\n",
      "2024-11-28 10:13:23,675 - INFO:main.pytdscf.simulator_cls - End simulation and save wavefunction\n",
      "2024-11-28 10:13:23,675 - INFO:main.pytdscf.simulator_cls - End simulation and save wavefunction\n",
      "2024-11-28 10:13:23,678 - INFO:main.pytdscf.simulator_cls - Wave function is saved in wf_DVR_Exciton2.pkl\n",
      "2024-11-28 10:13:23,678 - INFO:main.pytdscf.simulator_cls - Wave function is saved in wf_DVR_Exciton2.pkl\n"
     ]
    },
    {
     "data": {
      "text/plain": [
       "(0.006834502894389254, <pytdscf.wavefunction.WFunc at 0x13e3f5eb0>)"
      ]
     },
     "execution_count": 25,
     "metadata": {},
     "output_type": "execute_result"
    }
   ],
   "source": [
    "hamiltonian = TensorHamiltonian(\n",
    "    ndof=3, potential=potential, kinetic=kinetic, backend=backend\n",
    ")\n",
    "operators = {\"hamiltonian\": hamiltonian}\n",
    "basinfo = BasInfo([basis])\n",
    "model = Model(basinfo, operators)\n",
    "model.m_aux_max = 20\n",
    "model.init_HartreeProduct = [\n",
    "    [np.array([0.0, 1.0]).tolist()]\n",
    "    + [ho.get_unitary()[0].tolist() for ho in basis[1:]]\n",
    "]\n",
    "# Starts from the S1 state\n",
    "jobname = \"DVR_Exciton2\"\n",
    "simulator = Simulator(jobname, model, backend=backend)\n",
    "simulator.propagate(\n",
    "    stepsize=0.1, maxstep=10, reduced_density=([(0, 0)], 1), thresh_sil=1.0e-09\n",
    ")\n",
    "# simulator.propagate(stepsize=0.1, maxstep=10, reduced_density=None, thresh_sil=1.e-07)"
   ]
  },
  {
   "cell_type": "code",
   "execution_count": 26,
   "id": "24357777-542f-4430-a3e6-bfe2b553784b",
   "metadata": {},
   "outputs": [
    {
     "data": {
      "image/png": "[encoded data removed]",
      "text/plain": [
       "<Figure size 640x480 with 1 Axes>"
      ]
     },
     "metadata": {},
     "output_type": "display_data"
    }
   ],
   "source": [
    "import netCDF4 as nc\n",
    "\n",
    "with nc.Dataset(f\"{jobname}_prop/reduced_density.nc\", \"r\") as file:\n",
    "    density_data = file.variables[\"rho_(0, 0)_0\"][:]\n",
    "    time_data = file.variables[\"time\"][:]\n",
    "\n",
    "plt.plot(time_data, density_data[:, 0, 0], label=\"|S0><S0|\")\n",
    "plt.plot(time_data, density_data[:, 1, 1], label=\"|S1><S1|\")\n",
    "plt.plot(time_data, density_data[:, 0, 1], label=\"|S0><S1|\")\n",
    "plt.plot(time_data, density_data[:, 1, 0], label=\"|S1><S0|\")\n",
    "plt.legend()\n",
    "plt.show()"
   ]
  },
  {
   "cell_type": "code",
   "execution_count": null,
   "id": "7d516134-24de-4ff0-9d0e-cc483d82a4f1",
   "metadata": {},
   "outputs": [],
   "source": []
  }
 ],
 "metadata": {
  "kernelspec": {
   "display_name": "Python 3 (ipykernel)",
   "language": "python",
   "name": "python3"
  },
  "language_info": {
   "codemirror_mode": {
    "name": "ipython",
    "version": 3
   },
   "file_extension": ".py",
   "mimetype": "text/x-python",
   "name": "python",
   "nbconvert_exporter": "python",
   "pygments_lexer": "ipython3",
   "version": "3.12.2"
  }
 },
 "nbformat": 4,
 "nbformat_minor": 5
}
