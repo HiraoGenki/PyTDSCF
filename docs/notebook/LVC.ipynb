{
 "cells": [
  {
   "cell_type": "markdown",
   "id": "3571ac37-e66e-478b-99d6-9226a53d7d88",
   "metadata": {},
   "source": [
    "# Example 5: Multi-state FBR-SOP tutorial (LVC model)"
   ]
  },
  {
   "cell_type": "markdown",
   "id": "6655c37e-0a62-4ec0-ab6b-de282374a44f",
   "metadata": {},
   "source": [
    "| run type      | wavefunction | backend | Basis  | steps |\n",
    "| ---           | ---          | ---     | ---    | ---   |\n",
    "| propagation | MPS-SM | Numpy   | HO-FBR | 200    |\n"
   ]
  },
  {
   "cell_type": "markdown",
   "id": "2da0db19-4f61-4ff4-b0e9-e09651e23246",
   "metadata": {},
   "source": [
    "## 1. Import modules"
   ]
  },
  {
   "cell_type": "code",
   "execution_count": 1,
   "id": "89f1397d-d6a9-4313-9473-03203db871d0",
   "metadata": {
    "ExecuteTime": {
     "end_time": "2023-06-26T07:08:07.199468Z",
     "start_time": "2023-06-26T07:08:04.735968Z"
    }
   },
   "outputs": [],
   "source": [
    "from discvar import PrimBas_HO\n",
    "\n",
    "from pytdscf import BasInfo, Model, Simulator\n",
    "from pytdscf.hamiltonian_cls import PolynomialHamiltonian"
   ]
  },
  {
   "cell_type": "markdown",
   "id": "47b435d0-6f00-42e8-8b75-8d8a8a18dd6f",
   "metadata": {},
   "source": [
    "## 2. Define basis funciton\n",
    "In this case, 2-state 3-mode simulation of N=10, ω1=1500 cm-1, ω2=2000 cm-1, ω3=2500 cm-1 are defined"
   ]
  },
  {
   "cell_type": "code",
   "execution_count": 2,
   "id": "693c2c4a-4fe6-4c72-ae64-98636527dd94",
   "metadata": {
    "ExecuteTime": {
     "end_time": "2023-06-26T07:08:07.205513Z",
     "start_time": "2023-06-26T07:08:07.203809Z"
    }
   },
   "outputs": [],
   "source": [
    "freqs_cm1 = [1500, 2000, 2500]\n",
    "disps = [0.3, 0.4, 0.5]\n",
    "nprim = 10\n",
    "s0 = [PrimBas_HO(0.0, freq, nprim) for freq in freqs_cm1]\n",
    "s1 = [\n",
    "    PrimBas_HO(disp, freq, nprim)\n",
    "    for freq, disp in zip(freqs_cm1, disps, strict=False)\n",
    "]  # S1 basis is displaced from S0 basis\n",
    "basinfo = BasInfo([s0, s1])"
   ]
  },
  {
   "cell_type": "markdown",
   "id": "be400fc4-c925-440b-b865-a5375615d8c1",
   "metadata": {},
   "source": [
    "## 3. Define Hamiltonian\n",
    "In this case, Hamiltonian is defined by\n",
    "$$\n",
    "H=\\left[\\begin{array}{cc}\n",
    "\\sum_v-\\frac{\\omega_v}{2}\\left(\\frac{\\partial^2}{\\partial Q_v^2}+Q_v^2\\right) & J_{12} + \\sum_v \\lambda_{12}^{(v)} Q_v\\\\\n",
    "J_{21}  + \\sum_v \\lambda_{21}^{(v)} Q_v& \\sum_v-\\frac{\\omega_v}{2}\\left(\\frac{\\partial^2}{\\partial Q_v^2}+ (Q_v - Q^{(0)})^2\\right)+\\Delta E\n",
    "\\end{array}\\right].\n",
    "$$"
   ]
  },
  {
   "cell_type": "code",
   "execution_count": 3,
   "id": "37f754dd-0c77-416e-9624-35ba8a1fe9ca",
   "metadata": {
    "ExecuteTime": {
     "end_time": "2023-06-26T07:08:07.208540Z",
     "start_time": "2023-06-26T07:08:07.206962Z"
    }
   },
   "outputs": [],
   "source": [
    "coupleJ = 0.0001  # J_12 and J_21 in a.u.\n",
    "deltaE = 0.01  # ΔE in a.u.\n",
    "\n",
    "hamiltonian = PolynomialHamiltonian(basinfo.get_ndof(), basinfo.get_nstate())\n",
    "hamiltonian.coupleJ = [\n",
    "    [-deltaE / 2, coupleJ],\n",
    "    [coupleJ, deltaE / 2],\n",
    "]  # Shifting diagonal term reduces the iteration of each step.\n",
    "\n",
    "lam = {\n",
    "    (0, 1): {0: 0.001, 1: 0.0001},\n",
    "    (1, 0): {0: 0.001, 1: 0.0001},\n",
    "}  # λ_12^(v) in Hartree / (sqrt(AMU) * Bohr)\n",
    "\n",
    "hamiltonian.set_LVC(basinfo, lam)\n",
    "\n",
    "operators = {\"hamiltonian\": hamiltonian}"
   ]
  },
  {
   "cell_type": "markdown",
   "id": "859237d4-a99e-48db-b693-e52357e7d48a",
   "metadata": {},
   "source": [
    "## 4. Define misc\n",
    "- MPS bond-dimension is m=4\n",
    "- Initial population of 1-state is 1.0\n",
    "- Initial vibrational state is $|0,0,0\\rangle \\otimes |1,0,0\\rangle$ (only S0 state 0-th mode is excited)"
   ]
  },
  {
   "cell_type": "code",
   "execution_count": 4,
   "id": "989b63c9-d30d-4410-b6ba-55fbf95accee",
   "metadata": {
    "ExecuteTime": {
     "end_time": "2023-06-26T07:08:07.210786Z",
     "start_time": "2023-06-26T07:08:07.209656Z"
    }
   },
   "outputs": [],
   "source": [
    "model = Model(basinfo, operators)\n",
    "model.m_aux_max = 4\n",
    "model.init_weight_ESTATE = [0.0, 1.0]\n",
    "vib_gs = [1.0] + [0.0] * 9\n",
    "vib_es = [0.0] + [1.0] + [0.0] * 8\n",
    "model.init_weight_VIB_GS = [[vib_gs, vib_gs, vib_gs], [vib_es, vib_gs, vib_gs]]\n",
    "# model.primbas_gs = list(itertools.chain.from_iterable([s0 for _ in range(nmol)]))"
   ]
  },
  {
   "cell_type": "markdown",
   "id": "b3e3ef49-b2e8-441d-8802-ca538417f57f",
   "metadata": {},
   "source": [
    "## 5. Execute simulation\n",
    "- Δt=0.1 fs\n",
    "- If `proj_gs=True`, then the initial vibrational state is projected from `model.primbas_gs`."
   ]
  },
  {
   "cell_type": "code",
   "execution_count": 5,
   "id": "d43ee4aa-a4a3-4398-8661-e1da8baf4111",
   "metadata": {
    "ExecuteTime": {
     "end_time": "2023-06-26T07:08:11.351904Z",
     "start_time": "2023-06-26T07:08:07.211455Z"
    },
    "scrolled": true
   },
   "outputs": [
    {
     "name": "stderr",
     "output_type": "stream",
     "text": [
      "2024-10-26 20:20:48,309 - INFO:main.pytdscf._const_cls - \u001b[1m\u001b[35m\n",
      "     ____     __________   .____ ____   _____\n",
      "    / _  |   /__  __/ _ \\ / ___ / _  \\ / ___/\n",
      "   / /_) /_  __/ / / / ||/ /__ / / )_// /__\n",
      "  /  ___/ / / / / / / / |.__  / |  __/ ___/\n",
      " /  /  / /_/ / / / /_/ /___/ /| \\_/ / /\n",
      "/__/   \\__, /_/ /_____/_____/ \\____/_/\n",
      "      /____/\n",
      "\u001b[0m\n",
      "2024-10-26 20:20:48,310 - INFO:main.pytdscf._const_cls - Log file is ./LVC_prop/main.log\n",
      "2024-10-26 20:20:48,310 - INFO:main.pytdscf.simulator_cls - Set integral of FBR basis\n",
      "2024-10-26 20:20:48,448 - INFO:main.pytdscf.simulator_cls - Set initial wave function (FBR basis)\n",
      "2024-10-26 20:20:48,448 - INFO:main.pytdscf.simulator_cls - Prepare MPS w.f.\n",
      "2024-10-26 20:20:48,449 - INFO:main.pytdscf._mps_cls - Initial MPS: 0-state with weights 0.0\n",
      "2024-10-26 20:20:48,449 - INFO:main.pytdscf._mps_cls - Initial MPS: 1-state with weights 1.0\n",
      "2024-10-26 20:20:48,453 - INFO:main.pytdscf.simulator_cls - Wave function is saved in wf_LVC.pkl\n",
      "2024-10-26 20:20:48,453 - INFO:main.pytdscf.simulator_cls - Start initial step    0.000 [fs]\n",
      "2024-10-26 20:20:48,498 - INFO:main.pytdscf.simulator_cls - End     0 step; propagated    0.100 [fs]; AVG Krylov iteration: 5.20\n",
      "2024-10-26 20:20:52,430 - INFO:main.pytdscf.simulator_cls - End   100 step; propagated   10.100 [fs]; AVG Krylov iteration: 5.56\n",
      "2024-10-26 20:20:56,354 - INFO:main.pytdscf.simulator_cls - End   199 step; propagated   19.900 [fs]; AVG Krylov iteration: 5.58\n",
      "2024-10-26 20:20:56,354 - INFO:main.pytdscf.simulator_cls - End simulation and save wavefunction\n",
      "2024-10-26 20:20:56,360 - INFO:main.pytdscf.simulator_cls - Wave function is saved in wf_LVC.pkl\n"
     ]
    },
    {
     "data": {
      "text/plain": [
       "(0.018669005759725615, <pytdscf.wavefunction.WFunc at 0x1244aacf0>)"
      ]
     },
     "execution_count": 5,
     "metadata": {},
     "output_type": "execute_result"
    }
   ],
   "source": [
    "jobname = \"LVC\"\n",
    "backend = \"numpy\"\n",
    "simulator = Simulator(jobname, model, backend=backend, proj_gs=False)\n",
    "simulator.propagate(maxstep=200, stepsize=0.1)"
   ]
  },
  {
   "cell_type": "code",
   "execution_count": 6,
   "id": "0536da0b-200e-4b39-a9d9-218cc57c766c",
   "metadata": {
    "ExecuteTime": {
     "end_time": "2023-06-26T07:08:11.477726Z",
     "start_time": "2023-06-26T07:08:11.352642Z"
    },
    "scrolled": true,
    "tags": []
   },
   "outputs": [
    {
     "name": "stdout",
     "output_type": "stream",
     "text": [
      "# time [fs]\tpop_0      \tpop_1      \n",
      "0.000000000\t0.000000000\t1.000000000\t\n",
      "0.100000000\t0.001514000\t0.998486000\t\n",
      "0.200000000\t0.006028346\t0.993971654\t\n",
      "0.300000000\t0.013461024\t0.986538976\t\n",
      "0.400000000\t0.023678470\t0.976321530\t\n",
      "0.500000000\t0.036500074\t0.963499926\t\n",
      "0.600000000\t0.051704140\t0.948295860\t\n",
      "0.700000000\t0.069034987\t0.930965013\t\n",
      "0.800000000\t0.088210837\t0.911789163\t\n",
      "0.900000000\t0.108932106\t0.891067894\t\n",
      "1.000000000\t0.130889748\t0.869110252\t\n",
      "1.100000000\t0.153773302\t0.846226698\t\n",
      "1.200000000\t0.177278383\t0.822721617\t\n",
      "1.300000000\t0.201113394\t0.798886606\t\n",
      "1.400000000\t0.225005317\t0.774994683\t\n",
      "1.500000000\t0.248704516\t0.751295484\t\n",
      "1.600000000\t0.271988515\t0.728011485\t\n",
      "1.700000000\t0.294664789\t0.705335211\t\n",
      "1.800000000\t0.316572583\t0.683427417\t\n",
      "1.900000000\t0.337583842\t0.662416158\t\n",
      "2.000000000\t0.357603259\t0.642396741\t\n",
      "2.100000000\t0.376567512\t0.623432488\t\n",
      "2.200000000\t0.394443690\t0.605556310\t\n",
      "2.300000000\t0.411226947\t0.588773053\t\n",
      "2.400000000\t0.426937427\t0.573062573\t\n",
      "2.500000000\t0.441616516\t0.558383484\t\n",
      "2.600000000\t0.455322550\t0.544677450\t\n",
      "2.700000000\t0.468126111\t0.531873889\t\n",
      "2.800000000\t0.480105146\t0.519894854\t\n",
      "2.900000000\t0.491340139\t0.508659861\t\n",
      "3.000000000\t0.501909607\t0.498090393\t\n",
      "3.100000000\t0.511886182\t0.488113818\t\n",
      "3.200000000\t0.521333495\t0.478666505\t\n",
      "3.300000000\t0.530304015\t0.469695985\t\n",
      "3.400000000\t0.538837908\t0.461162092\t\n",
      "3.500000000\t0.546962858\t0.453037142\t\n",
      "3.600000000\t0.554694719\t0.445305281\t\n",
      "3.700000000\t0.562038759\t0.437961241\t\n",
      "3.800000000\t0.568991208\t0.431008792\t\n",
      "3.900000000\t0.575540834\t0.424459166\t\n",
      "4.000000000\t0.581670269\t0.418329731\t\n",
      "4.100000000\t0.587356927\t0.412643073\t\n",
      "4.200000000\t0.592573419\t0.407426581\t\n",
      "4.300000000\t0.597287542\t0.402712458\t\n",
      "4.400000000\t0.601461995\t0.398538005\t\n",
      "4.500000000\t0.605054079\t0.394945921\t\n",
      "4.600000000\t0.608015702\t0.391984298\t\n",
      "4.700000000\t0.610293975\t0.389706025\t\n",
      "4.800000000\t0.611832638\t0.388167362\t\n",
      "4.900000000\t0.612574441\t0.387425559\t\n",
      "5.000000000\t0.612464453\t0.387535547\t\n",
      "5.100000000\t0.611454125\t0.388545875\t\n",
      "5.200000000\t0.609505782\t0.390494218\t\n",
      "5.300000000\t0.606597131\t0.393402869\t\n",
      "5.400000000\t0.602725305\t0.397274695\t\n",
      "5.500000000\t0.597910013\t0.402089987\t\n",
      "5.600000000\t0.592195416\t0.407804584\t\n",
      "5.700000000\t0.585650526\t0.414349474\t\n",
      "5.800000000\t0.578368064\t0.421631936\t\n",
      "5.900000000\t0.570461906\t0.429538094\t\n",
      "6.000000000\t0.562063393\t0.437936607\t\n",
      "6.100000000\t0.553316883\t0.446683117\t\n",
      "6.200000000\t0.544374973\t0.455625027\t\n",
      "6.300000000\t0.535393777\t0.464606223\t\n",
      "6.400000000\t0.526528586\t0.473471414\t\n",
      "6.500000000\t0.517930062\t0.482069938\t\n",
      "6.600000000\t0.509741033\t0.490258967\t\n",
      "6.700000000\t0.502093758\t0.497906242\t\n",
      "6.800000000\t0.495107498\t0.504892502\t\n",
      "6.900000000\t0.488886159\t0.511113841\t\n",
      "7.000000000\t0.483515836\t0.516484164\t\n",
      "7.100000000\t0.479062191\t0.520937809\t\n",
      "7.200000000\t0.475567725\t0.524432275\t\n",
      "7.300000000\t0.473049199\t0.526950801\t\n",
      "7.400000000\t0.471495580\t0.528504420\t\n",
      "7.500000000\t0.470866997\t0.529133003\t\n",
      "7.600000000\t0.471095169\t0.528904831\t\n",
      "7.700000000\t0.472085710\t0.527914290\t\n",
      "7.800000000\t0.473722501\t0.526277499\t\n",
      "7.900000000\t0.475874069\t0.524125931\t\n",
      "8.000000000\t0.478401609\t0.521598391\t\n",
      "8.100000000\t0.481167989\t0.518832011\t\n",
      "8.200000000\t0.484046854\t0.515953146\t\n",
      "8.300000000\t0.486930803\t0.513069197\t\n",
      "8.400000000\t0.489737645\t0.510262355\t\n",
      "8.500000000\t0.492413894\t0.507586106\t\n",
      "8.600000000\t0.494934969\t0.505065031\t\n",
      "8.700000000\t0.497301996\t0.502698004\t\n",
      "8.800000000\t0.499535556\t0.500464444\t\n",
      "8.900000000\t0.501667184\t0.498332816\t\n",
      "9.000000000\t0.503729776\t0.496270224\t\n",
      "9.100000000\t0.505748293\t0.494251707\t\n",
      "9.200000000\t0.507732148\t0.492267852\t\n",
      "9.300000000\t0.509670500\t0.490329500\t\n",
      "9.400000000\t0.511531305\t0.488468695\t\n",
      "9.500000000\t0.513264444\t0.486735556\t\n",
      "9.600000000\t0.514808668\t0.485191332\t\n",
      "9.700000000\t0.516101519\t0.483898481\t\n",
      "9.800000000\t0.517090879\t0.482909121\t\n",
      "9.900000000\t0.517746517\t0.482253483\t\n",
      "10.000000000\t0.518069862\t0.481930138\t\n",
      "10.100000000\t0.518100437\t0.481899563\t\n",
      "10.200000000\t0.517917722\t0.482082278\t\n",
      "10.300000000\t0.517637835\t0.482362165\t\n",
      "10.400000000\t0.517405063\t0.482594937\t\n",
      "10.500000000\t0.517379013\t0.482620987\t\n",
      "10.600000000\t0.517718752\t0.482281248\t\n",
      "10.700000000\t0.518565763\t0.481434237\t\n",
      "10.800000000\t0.520027787\t0.479972213\t\n",
      "10.900000000\t0.522165532\t0.477834468\t\n",
      "11.000000000\t0.524983940\t0.475016060\t\n",
      "11.100000000\t0.528429158\t0.471570842\t\n",
      "11.200000000\t0.532391652\t0.467608348\t\n",
      "11.300000000\t0.536715158\t0.463284842\t\n",
      "11.400000000\t0.541210448\t0.458789552\t\n",
      "11.500000000\t0.545672319\t0.454327681\t\n",
      "11.600000000\t0.549897849\t0.450102151\t\n",
      "11.700000000\t0.553703868\t0.446296132\t\n",
      "11.800000000\t0.556941747\t0.443058253\t\n",
      "11.900000000\t0.559508005\t0.440491995\t\n",
      "12.000000000\t0.561349828\t0.438650172\t\n",
      "12.100000000\t0.562465233\t0.437534767\t\n",
      "12.200000000\t0.562898300\t0.437101700\t\n",
      "12.300000000\t0.562730479\t0.437269521\t\n",
      "12.400000000\t0.562069371\t0.437930629\t\n",
      "12.500000000\t0.561036619\t0.438963381\t\n",
      "12.600000000\t0.559756521\t0.440243479\t\n",
      "12.700000000\t0.558346714\t0.441653286\t\n",
      "12.800000000\t0.556911932\t0.443088068\t\n",
      "12.900000000\t0.555541280\t0.444458720\t\n",
      "13.000000000\t0.554308964\t0.445691036\t\n",
      "13.100000000\t0.553277910\t0.446722090\t\n",
      "13.200000000\t0.552505331\t0.447494669\t\n",
      "13.300000000\t0.552049054\t0.447950946\t\n",
      "13.400000000\t0.551973391\t0.448026609\t\n",
      "13.500000000\t0.552353429\t0.447646571\t\n",
      "13.600000000\t0.553276901\t0.446723099\t\n",
      "13.700000000\t0.554843148\t0.445156852\t\n",
      "13.800000000\t0.557159088\t0.442840912\t\n",
      "13.900000000\t0.560332544\t0.439667456\t\n",
      "14.000000000\t0.564463569\t0.435536431\t\n",
      "14.100000000\t0.569634697\t0.430365303\t\n",
      "14.200000000\t0.575901146\t0.424098854\t\n",
      "14.300000000\t0.583282004\t0.416717996\t\n",
      "14.400000000\t0.591753310\t0.408246690\t\n",
      "14.500000000\t0.601243730\t0.398756270\t\n",
      "14.600000000\t0.611633273\t0.388366727\t\n",
      "14.700000000\t0.622755188\t0.377244812\t\n",
      "14.800000000\t0.634400901\t0.365599099\t\n",
      "14.900000000\t0.646327607\t0.353672393\t\n",
      "15.000000000\t0.658267936\t0.341732064\t\n",
      "15.100000000\t0.669940970\t0.330059030\t\n",
      "15.200000000\t0.681063838\t0.318936162\t\n",
      "15.300000000\t0.691363131\t0.308636869\t\n",
      "15.400000000\t0.700585399\t0.299414601\t\n",
      "15.500000000\t0.708506151\t0.291493849\t\n",
      "15.600000000\t0.714936901\t0.285063099\t\n",
      "15.700000000\t0.719729945\t0.280270055\t\n",
      "15.800000000\t0.722780782\t0.277219218\t\n",
      "15.900000000\t0.724028234\t0.275971766\t\n",
      "16.000000000\t0.723452480\t0.276547520\t\n",
      "16.100000000\t0.721071376\t0.278928624\t\n",
      "16.200000000\t0.716935545\t0.283064455\t\n",
      "16.300000000\t0.711122734\t0.288877266\t\n",
      "16.400000000\t0.703732025\t0.296267975\t\n",
      "16.500000000\t0.694878366\t0.305121634\t\n",
      "16.600000000\t0.684687868\t0.315312132\t\n",
      "16.700000000\t0.673294116\t0.326705884\t\n",
      "16.800000000\t0.660835644\t0.339164356\t\n",
      "16.900000000\t0.647454495\t0.352545505\t\n",
      "17.000000000\t0.633295651\t0.366704349\t\n",
      "17.100000000\t0.618507001\t0.381492999\t\n",
      "17.200000000\t0.603239403\t0.396760597\t\n",
      "17.300000000\t0.587646403\t0.412353597\t\n",
      "17.400000000\t0.571883224\t0.428116776\t\n",
      "17.500000000\t0.556104733\t0.443895267\t\n",
      "17.600000000\t0.540462285\t0.459537715\t\n",
      "17.700000000\t0.525099509\t0.474900491\t\n",
      "17.800000000\t0.510147305\t0.489852695\t\n",
      "17.900000000\t0.495718504\t0.504281496\t\n",
      "18.000000000\t0.481902722\t0.518097278\t\n",
      "18.100000000\t0.468762025\t0.531237975\t\n",
      "18.200000000\t0.456327965\t0.543672035\t\n",
      "18.300000000\t0.444600424\t0.555399576\t\n",
      "18.400000000\t0.433548562\t0.566451438\t\n",
      "18.500000000\t0.423113890\t0.576886110\t\n",
      "18.600000000\t0.413215304\t0.586784696\t\n",
      "18.700000000\t0.403755665\t0.596244335\t\n",
      "18.800000000\t0.394629355\t0.605370645\t\n",
      "18.900000000\t0.385730116\t0.614269884\t\n",
      "19.000000000\t0.376958495\t0.623041505\t\n",
      "19.100000000\t0.368228232\t0.631771768\t\n",
      "19.200000000\t0.359471110\t0.640528890\t\n",
      "19.300000000\t0.350639950\t0.649360050\t\n",
      "19.400000000\t0.341709672\t0.658290328\t\n",
      "19.500000000\t0.332676566\t0.667323434\t\n",
      "19.600000000\t0.323556112\t0.676443888\t\n",
      "19.700000000\t0.314379815\t0.685620185\t\n",
      "19.800000000\t0.305191620\t0.694808380\t\n",
      "19.900000000\t0.296044445\t0.703955555\t\n"
     ]
    }
   ],
   "source": [
    "!cat LVC_prop/populations.dat"
   ]
  },
  {
   "cell_type": "markdown",
   "id": "71729ad6-1f5b-40da-9203-49df81b13839",
   "metadata": {},
   "source": [
    "## 7. Visualize populations"
   ]
  },
  {
   "cell_type": "code",
   "execution_count": 7,
   "id": "3d754287-2284-476f-89d0-f893a9b098d0",
   "metadata": {
    "ExecuteTime": {
     "end_time": "2023-06-26T07:08:34.560878Z",
     "start_time": "2023-06-26T07:08:34.414242Z"
    }
   },
   "outputs": [
    {
     "data": {
      "image/png": "[encoded data removed]",
      "text/plain": [
       "<Figure size 640x480 with 1 Axes>"
      ]
     },
     "metadata": {},
     "output_type": "display_data"
    }
   ],
   "source": [
    "# !gnuplot -e \" set xlabel 'time [fs]'; set ylabel 'population'; plot 'PropagateMultiStateSOP/populations.log' using 1:2 with lines title '0-state', 'PropagateMultiStateSOP/populations.log' using 1:3 with lines title '1-state'\"\n",
    "import matplotlib.pyplot as plt\n",
    "import numpy as np\n",
    "\n",
    "data = np.loadtxt(\"LVC_prop/populations.dat\")\n",
    "\n",
    "plt.plot(data[:, 0], data[:, 1], label=\"0-state\")\n",
    "plt.plot(data[:, 0], data[:, 2], label=\"1-state\")\n",
    "\n",
    "plt.title(jobname)\n",
    "plt.xlabel(\"time [fs]\")\n",
    "plt.ylabel(\"State Population\")\n",
    "\n",
    "plt.legend()\n",
    "plt.show()"
   ]
  },
  {
   "cell_type": "code",
   "execution_count": null,
   "id": "656a5b59-f019-4ef9-9384-993c345bc908",
   "metadata": {},
   "outputs": [],
   "source": []
  }
 ],
 "metadata": {
  "kernelspec": {
   "display_name": "Python 3 (ipykernel)",
   "language": "python",
   "name": "python3"
  },
  "language_info": {
   "codemirror_mode": {
    "name": "ipython",
    "version": 3
   },
   "file_extension": ".py",
   "mimetype": "text/x-python",
   "name": "python",
   "nbconvert_exporter": "python",
   "pygments_lexer": "ipython3",
   "version": "3.12.2"
  }
 },
 "nbformat": 4,
 "nbformat_minor": 5
}
